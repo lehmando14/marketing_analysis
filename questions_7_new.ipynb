{
 "cells": [
  {
   "cell_type": "code",
   "execution_count": 10,
   "metadata": {},
   "outputs": [
    {
     "data": {
      "text/html": [
       "<div>\n",
       "<style scoped>\n",
       "    .dataframe tbody tr th:only-of-type {\n",
       "        vertical-align: middle;\n",
       "    }\n",
       "\n",
       "    .dataframe tbody tr th {\n",
       "        vertical-align: top;\n",
       "    }\n",
       "\n",
       "    .dataframe thead th {\n",
       "        text-align: right;\n",
       "    }\n",
       "</style>\n",
       "<table border=\"1\" class=\"dataframe\">\n",
       "  <thead>\n",
       "    <tr style=\"text-align: right;\">\n",
       "      <th></th>\n",
       "      <th>cohort</th>\n",
       "      <th>user</th>\n",
       "      <th>time_year</th>\n",
       "      <th>time_month</th>\n",
       "      <th>subscription</th>\n",
       "      <th>content</th>\n",
       "      <th>genres</th>\n",
       "      <th>recency_new</th>\n",
       "      <th>bounce</th>\n",
       "    </tr>\n",
       "  </thead>\n",
       "  <tbody>\n",
       "    <tr>\n",
       "      <th>0</th>\n",
       "      <td>0</td>\n",
       "      <td>0</td>\n",
       "      <td>2017</td>\n",
       "      <td>8</td>\n",
       "      <td>1</td>\n",
       "      <td>2.0</td>\n",
       "      <td>2.0</td>\n",
       "      <td>1.0000</td>\n",
       "      <td>0.5000</td>\n",
       "    </tr>\n",
       "    <tr>\n",
       "      <th>1</th>\n",
       "      <td>0</td>\n",
       "      <td>0</td>\n",
       "      <td>2017</td>\n",
       "      <td>9</td>\n",
       "      <td>1</td>\n",
       "      <td>1.0</td>\n",
       "      <td>1.0</td>\n",
       "      <td>1.0000</td>\n",
       "      <td>0.0000</td>\n",
       "    </tr>\n",
       "    <tr>\n",
       "      <th>2</th>\n",
       "      <td>0</td>\n",
       "      <td>1</td>\n",
       "      <td>2017</td>\n",
       "      <td>8</td>\n",
       "      <td>1</td>\n",
       "      <td>1.0</td>\n",
       "      <td>1.0</td>\n",
       "      <td>0.0000</td>\n",
       "      <td>1.0000</td>\n",
       "    </tr>\n",
       "    <tr>\n",
       "      <th>3</th>\n",
       "      <td>0</td>\n",
       "      <td>1</td>\n",
       "      <td>2017</td>\n",
       "      <td>9</td>\n",
       "      <td>1</td>\n",
       "      <td>1.0</td>\n",
       "      <td>1.0</td>\n",
       "      <td>0.0000</td>\n",
       "      <td>0.5000</td>\n",
       "    </tr>\n",
       "    <tr>\n",
       "      <th>4</th>\n",
       "      <td>0</td>\n",
       "      <td>2</td>\n",
       "      <td>2017</td>\n",
       "      <td>8</td>\n",
       "      <td>1</td>\n",
       "      <td>12.0</td>\n",
       "      <td>4.0</td>\n",
       "      <td>0.2500</td>\n",
       "      <td>0.0000</td>\n",
       "    </tr>\n",
       "    <tr>\n",
       "      <th>...</th>\n",
       "      <td>...</td>\n",
       "      <td>...</td>\n",
       "      <td>...</td>\n",
       "      <td>...</td>\n",
       "      <td>...</td>\n",
       "      <td>...</td>\n",
       "      <td>...</td>\n",
       "      <td>...</td>\n",
       "      <td>...</td>\n",
       "    </tr>\n",
       "    <tr>\n",
       "      <th>31672</th>\n",
       "      <td>11</td>\n",
       "      <td>20170</td>\n",
       "      <td>2018</td>\n",
       "      <td>7</td>\n",
       "      <td>1</td>\n",
       "      <td>2.0</td>\n",
       "      <td>2.0</td>\n",
       "      <td>0.5000</td>\n",
       "      <td>1.0000</td>\n",
       "    </tr>\n",
       "    <tr>\n",
       "      <th>31673</th>\n",
       "      <td>11</td>\n",
       "      <td>20171</td>\n",
       "      <td>2018</td>\n",
       "      <td>7</td>\n",
       "      <td>1</td>\n",
       "      <td>3.0</td>\n",
       "      <td>2.0</td>\n",
       "      <td>0.3333</td>\n",
       "      <td>0.6667</td>\n",
       "    </tr>\n",
       "    <tr>\n",
       "      <th>31674</th>\n",
       "      <td>11</td>\n",
       "      <td>20172</td>\n",
       "      <td>2018</td>\n",
       "      <td>7</td>\n",
       "      <td>1</td>\n",
       "      <td>1.0</td>\n",
       "      <td>1.0</td>\n",
       "      <td>1.0000</td>\n",
       "      <td>1.0000</td>\n",
       "    </tr>\n",
       "    <tr>\n",
       "      <th>31675</th>\n",
       "      <td>11</td>\n",
       "      <td>20173</td>\n",
       "      <td>2018</td>\n",
       "      <td>7</td>\n",
       "      <td>1</td>\n",
       "      <td>4.0</td>\n",
       "      <td>3.0</td>\n",
       "      <td>0.2500</td>\n",
       "      <td>0.0000</td>\n",
       "    </tr>\n",
       "    <tr>\n",
       "      <th>31676</th>\n",
       "      <td>11</td>\n",
       "      <td>20174</td>\n",
       "      <td>2018</td>\n",
       "      <td>7</td>\n",
       "      <td>1</td>\n",
       "      <td>3.0</td>\n",
       "      <td>2.0</td>\n",
       "      <td>0.0000</td>\n",
       "      <td>0.6667</td>\n",
       "    </tr>\n",
       "  </tbody>\n",
       "</table>\n",
       "<p>31677 rows × 9 columns</p>\n",
       "</div>"
      ],
      "text/plain": [
       "       cohort   user  time_year  time_month  subscription  content  genres  \\\n",
       "0           0      0       2017           8             1      2.0     2.0   \n",
       "1           0      0       2017           9             1      1.0     1.0   \n",
       "2           0      1       2017           8             1      1.0     1.0   \n",
       "3           0      1       2017           9             1      1.0     1.0   \n",
       "4           0      2       2017           8             1     12.0     4.0   \n",
       "...       ...    ...        ...         ...           ...      ...     ...   \n",
       "31672      11  20170       2018           7             1      2.0     2.0   \n",
       "31673      11  20171       2018           7             1      3.0     2.0   \n",
       "31674      11  20172       2018           7             1      1.0     1.0   \n",
       "31675      11  20173       2018           7             1      4.0     3.0   \n",
       "31676      11  20174       2018           7             1      3.0     2.0   \n",
       "\n",
       "       recency_new  bounce  \n",
       "0           1.0000  0.5000  \n",
       "1           1.0000  0.0000  \n",
       "2           0.0000  1.0000  \n",
       "3           0.0000  0.5000  \n",
       "4           0.2500  0.0000  \n",
       "...            ...     ...  \n",
       "31672       0.5000  1.0000  \n",
       "31673       0.3333  0.6667  \n",
       "31674       1.0000  1.0000  \n",
       "31675       0.2500  0.0000  \n",
       "31676       0.0000  0.6667  \n",
       "\n",
       "[31677 rows x 9 columns]"
      ]
     },
     "execution_count": 10,
     "metadata": {},
     "output_type": "execute_result"
    }
   ],
   "source": [
    "import pandas as pd\n",
    "from utilities import CohortDateMapper\n",
    "\n",
    "import question_3af as q3\n",
    "import question_3gh as q3_end\n",
    "import question_4 as q4\n",
    "import question_6 as q6\n",
    "\n",
    "\n",
    "\n",
    "customer_df = pd.read_excel('data/customer_data.xlsx')\n",
    "\n",
    "cdm = CohortDateMapper(customer_df)\n",
    "\n",
    "customer_df"
   ]
  },
  {
   "cell_type": "code",
   "execution_count": 11,
   "metadata": {},
   "outputs": [
    {
     "data": {
      "text/plain": [
       "0.01171491691985338"
      ]
     },
     "execution_count": 11,
     "metadata": {},
     "output_type": "execute_result"
    }
   ],
   "source": [
    "rev_per_month_per_user = 10\n",
    "discount_rate_annual = 0.15\n",
    "discount_rate_monthly = (1 + discount_rate_annual)**(1/12) - 1\n",
    "discount_rate_monthly"
   ]
  },
  {
   "cell_type": "code",
   "execution_count": 12,
   "metadata": {},
   "outputs": [
    {
     "data": {
      "text/plain": [
       "159746.84811799013"
      ]
     },
     "execution_count": 12,
     "metadata": {},
     "output_type": "execute_result"
    }
   ],
   "source": [
    "#7a clv of customer with time horizon one year\n",
    "avg_retention_rates_across_cohorts = \\\n",
    "    q3_end.calculate_avg_retention_rates_across_cohorts(customer_df, cdm)\n",
    "\n",
    "#replace last none with zero\n",
    "avg_retention_rates_across_cohorts[-1] = 0.5\n",
    "clv_dynamic = q6.calc_dynamic_clv(avg_retention_rates_across_cohorts, rev_per_month_per_user, discount_rate_monthly)\n",
    "clv_dynamic_sum = clv_dynamic * 10_000\n",
    "clv_dynamic_sum"
   ]
  },
  {
   "cell_type": "code",
   "execution_count": 4,
   "metadata": {},
   "outputs": [
    {
     "data": {
      "text/plain": [
       "[0.0,\n",
       " 0.2332636013864539,\n",
       " 0.40606952751537617,\n",
       " 0.5340873062334607,\n",
       " 0.6289252092790181,\n",
       " 0.6991828558664132,\n",
       " 0.7512310006005721,\n",
       " 0.7897892145723163,\n",
       " 0.8183538420395288,\n",
       " 0.8395150385342253,\n",
       " 0.8551916384689224,\n",
       " 0.8668051493388841,\n",
       " 0.8754086497974367,\n",
       " 0.8817822796987761,\n",
       " 0.8865039808615701,\n",
       " 0.890001903115582,\n",
       " 0.892593227655882,\n",
       " 0.894512928091036,\n",
       " 0.8959350771516487,\n",
       " 0.8969886310882759,\n",
       " 0.8977691230410003,\n",
       " 0.898347325700674,\n",
       " 0.8987756687662068,\n",
       " 0.8990929931138563]"
      ]
     },
     "execution_count": 4,
     "metadata": {},
     "output_type": "execute_result"
    }
   ],
   "source": [
    "#7d\n",
    "import math\n",
    "\n",
    "def forecast_future_retention_rates(month):\n",
    "    return 0.9*(1-math.exp(-0.3*month))\n",
    "\n",
    "forecasts_rr_year_2 = [forecast_future_retention_rates(month) for month in range(0, 24)]\n",
    "forecasts_rr_year_2"
   ]
  },
  {
   "cell_type": "code",
   "execution_count": 5,
   "metadata": {},
   "outputs": [],
   "source": [
    "#7e I: get data\n",
    "rr_0 = q3.calculate_retention_rates_of_cohort_i(customer_df, 0, cdm)\n",
    "\n",
    "forecast_no_offset_ind, forecast_no_offset = range(0, 24), forecasts_rr_year_2\n",
    "forecast_offset_2_ind, forecast_offset_2 = range(2, 24), forecasts_rr_year_2[:22]\n",
    "retention_rate_0_ind, retention_rate_0 = range(0, 12), [rr_0[period] for period in range(0,12)]\n"
   ]
  },
  {
   "cell_type": "code",
   "execution_count": 6,
   "metadata": {},
   "outputs": [
    {
     "data": {
      "image/png": "[encoded data removed]",
      "text/plain": [
       "<Figure size 640x480 with 1 Axes>"
      ]
     },
     "metadata": {},
     "output_type": "display_data"
    }
   ],
   "source": [
    "#7e II: plot data\n",
    "import matplotlib.pyplot as plt\n",
    "\n",
    "# Create a plot\n",
    "plt.xticks(range(0, 24, 2))\n",
    "plt.plot(forecast_no_offset_ind, forecast_no_offset, marker='o', label=\"Forecast\")\n",
    "plt.plot(forecast_offset_2_ind, forecast_offset_2, marker='o', label=\"Forecast with two months offset\")\n",
    "plt.plot(retention_rate_0_ind, retention_rate_0, marker='o', label=\"Retention Data from Cohort 0\")\n",
    "\n",
    "# Add labels and title\n",
    "plt.xlabel('Month')\n",
    "plt.ylabel('Retention Rate')\n",
    "plt.title('Historical Retention Rates vs Forecast Retention Rates')\n",
    "\n",
    "# Display the plot\n",
    "plt.legend()\n",
    "plt.show()"
   ]
  },
  {
   "cell_type": "code",
   "execution_count": 8,
   "metadata": {},
   "outputs": [
    {
     "data": {
      "text/plain": [
       "15.974684811799014"
      ]
     },
     "execution_count": 8,
     "metadata": {},
     "output_type": "execute_result"
    }
   ],
   "source": [
    "#7f old version: result 15.119068116317383\n",
    "\n",
    "avg_retention_rates_across_cohorts = \\\n",
    "    q3_end.calculate_avg_retention_rates_across_cohorts(customer_df, cdm)\n",
    "avg_retention_rates_across_cohorts[-1] = 0.5\n",
    "retentionrates_2_years = avg_retention_rates_across_cohorts + forecasts_rr_year_2\n",
    "\n",
    "clv_2_years = q6.calc_dynamic_clv(retentionrates_2_years, rev_per_month_per_user, discount_rate_monthly)\n",
    "clv_2_years"
   ]
  },
  {
   "cell_type": "code",
   "execution_count": 13,
   "metadata": {},
   "outputs": [
    {
     "data": {
      "text/plain": [
       "16.060758668552282"
      ]
     },
     "execution_count": 13,
     "metadata": {},
     "output_type": "execute_result"
    }
   ],
   "source": [
    "#7f new version which uses forecasts earlier instead of unreliable historical data\n",
    "\n",
    "avg_retention_rates_across_cohorts = \\\n",
    "    q3_end.calculate_avg_retention_rates_across_cohorts(customer_df, cdm)\n",
    "avg_retention_rates_across_cohorts[-1] = 0.5\n",
    "retentionrates_2_years = avg_retention_rates_across_cohorts[:7] + forecasts_rr_year_2[7:]\n",
    "\n",
    "clv_2_years = q6.calc_dynamic_clv(retentionrates_2_years, rev_per_month_per_user, discount_rate_monthly)\n",
    "clv_2_years"
   ]
  }
 ],
 "metadata": {
  "kernelspec": {
   "display_name": "Python 3",
   "language": "python",
   "name": "python3"
  },
  "language_info": {
   "codemirror_mode": {
    "name": "ipython",
    "version": 3
   },
   "file_extension": ".py",
   "mimetype": "text/x-python",
   "name": "python",
   "nbconvert_exporter": "python",
   "pygments_lexer": "ipython3",
   "version": "3.11.2"
  }
 },
 "nbformat": 4,
 "nbformat_minor": 2
}
