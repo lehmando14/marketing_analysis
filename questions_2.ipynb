{
 "cells": [
  {
   "cell_type": "code",
   "execution_count": 1,
   "metadata": {},
   "outputs": [
    {
     "data": {
      "text/html": [
       "<div>\n",
       "<style scoped>\n",
       "    .dataframe tbody tr th:only-of-type {\n",
       "        vertical-align: middle;\n",
       "    }\n",
       "\n",
       "    .dataframe tbody tr th {\n",
       "        vertical-align: top;\n",
       "    }\n",
       "\n",
       "    .dataframe thead th {\n",
       "        text-align: right;\n",
       "    }\n",
       "</style>\n",
       "<table border=\"1\" class=\"dataframe\">\n",
       "  <thead>\n",
       "    <tr style=\"text-align: right;\">\n",
       "      <th></th>\n",
       "      <th>cohort</th>\n",
       "      <th>user</th>\n",
       "      <th>time_year</th>\n",
       "      <th>time_month</th>\n",
       "      <th>subscription</th>\n",
       "      <th>content</th>\n",
       "      <th>genres</th>\n",
       "      <th>recency_new</th>\n",
       "      <th>bounce</th>\n",
       "    </tr>\n",
       "  </thead>\n",
       "  <tbody>\n",
       "    <tr>\n",
       "      <th>0</th>\n",
       "      <td>0</td>\n",
       "      <td>0</td>\n",
       "      <td>2017</td>\n",
       "      <td>8</td>\n",
       "      <td>1</td>\n",
       "      <td>2.0</td>\n",
       "      <td>2.0</td>\n",
       "      <td>1.0000</td>\n",
       "      <td>0.5000</td>\n",
       "    </tr>\n",
       "    <tr>\n",
       "      <th>1</th>\n",
       "      <td>0</td>\n",
       "      <td>0</td>\n",
       "      <td>2017</td>\n",
       "      <td>9</td>\n",
       "      <td>1</td>\n",
       "      <td>1.0</td>\n",
       "      <td>1.0</td>\n",
       "      <td>1.0000</td>\n",
       "      <td>0.0000</td>\n",
       "    </tr>\n",
       "    <tr>\n",
       "      <th>2</th>\n",
       "      <td>0</td>\n",
       "      <td>1</td>\n",
       "      <td>2017</td>\n",
       "      <td>8</td>\n",
       "      <td>1</td>\n",
       "      <td>1.0</td>\n",
       "      <td>1.0</td>\n",
       "      <td>0.0000</td>\n",
       "      <td>1.0000</td>\n",
       "    </tr>\n",
       "    <tr>\n",
       "      <th>3</th>\n",
       "      <td>0</td>\n",
       "      <td>1</td>\n",
       "      <td>2017</td>\n",
       "      <td>9</td>\n",
       "      <td>1</td>\n",
       "      <td>1.0</td>\n",
       "      <td>1.0</td>\n",
       "      <td>0.0000</td>\n",
       "      <td>0.5000</td>\n",
       "    </tr>\n",
       "    <tr>\n",
       "      <th>4</th>\n",
       "      <td>0</td>\n",
       "      <td>2</td>\n",
       "      <td>2017</td>\n",
       "      <td>8</td>\n",
       "      <td>1</td>\n",
       "      <td>12.0</td>\n",
       "      <td>4.0</td>\n",
       "      <td>0.2500</td>\n",
       "      <td>0.0000</td>\n",
       "    </tr>\n",
       "    <tr>\n",
       "      <th>...</th>\n",
       "      <td>...</td>\n",
       "      <td>...</td>\n",
       "      <td>...</td>\n",
       "      <td>...</td>\n",
       "      <td>...</td>\n",
       "      <td>...</td>\n",
       "      <td>...</td>\n",
       "      <td>...</td>\n",
       "      <td>...</td>\n",
       "    </tr>\n",
       "    <tr>\n",
       "      <th>31672</th>\n",
       "      <td>11</td>\n",
       "      <td>20170</td>\n",
       "      <td>2018</td>\n",
       "      <td>7</td>\n",
       "      <td>1</td>\n",
       "      <td>2.0</td>\n",
       "      <td>2.0</td>\n",
       "      <td>0.5000</td>\n",
       "      <td>1.0000</td>\n",
       "    </tr>\n",
       "    <tr>\n",
       "      <th>31673</th>\n",
       "      <td>11</td>\n",
       "      <td>20171</td>\n",
       "      <td>2018</td>\n",
       "      <td>7</td>\n",
       "      <td>1</td>\n",
       "      <td>3.0</td>\n",
       "      <td>2.0</td>\n",
       "      <td>0.3333</td>\n",
       "      <td>0.6667</td>\n",
       "    </tr>\n",
       "    <tr>\n",
       "      <th>31674</th>\n",
       "      <td>11</td>\n",
       "      <td>20172</td>\n",
       "      <td>2018</td>\n",
       "      <td>7</td>\n",
       "      <td>1</td>\n",
       "      <td>1.0</td>\n",
       "      <td>1.0</td>\n",
       "      <td>1.0000</td>\n",
       "      <td>1.0000</td>\n",
       "    </tr>\n",
       "    <tr>\n",
       "      <th>31675</th>\n",
       "      <td>11</td>\n",
       "      <td>20173</td>\n",
       "      <td>2018</td>\n",
       "      <td>7</td>\n",
       "      <td>1</td>\n",
       "      <td>4.0</td>\n",
       "      <td>3.0</td>\n",
       "      <td>0.2500</td>\n",
       "      <td>0.0000</td>\n",
       "    </tr>\n",
       "    <tr>\n",
       "      <th>31676</th>\n",
       "      <td>11</td>\n",
       "      <td>20174</td>\n",
       "      <td>2018</td>\n",
       "      <td>7</td>\n",
       "      <td>1</td>\n",
       "      <td>3.0</td>\n",
       "      <td>2.0</td>\n",
       "      <td>0.0000</td>\n",
       "      <td>0.6667</td>\n",
       "    </tr>\n",
       "  </tbody>\n",
       "</table>\n",
       "<p>31677 rows × 9 columns</p>\n",
       "</div>"
      ],
      "text/plain": [
       "       cohort   user  time_year  time_month  subscription  content  genres  \\\n",
       "0           0      0       2017           8             1      2.0     2.0   \n",
       "1           0      0       2017           9             1      1.0     1.0   \n",
       "2           0      1       2017           8             1      1.0     1.0   \n",
       "3           0      1       2017           9             1      1.0     1.0   \n",
       "4           0      2       2017           8             1     12.0     4.0   \n",
       "...       ...    ...        ...         ...           ...      ...     ...   \n",
       "31672      11  20170       2018           7             1      2.0     2.0   \n",
       "31673      11  20171       2018           7             1      3.0     2.0   \n",
       "31674      11  20172       2018           7             1      1.0     1.0   \n",
       "31675      11  20173       2018           7             1      4.0     3.0   \n",
       "31676      11  20174       2018           7             1      3.0     2.0   \n",
       "\n",
       "       recency_new  bounce  \n",
       "0           1.0000  0.5000  \n",
       "1           1.0000  0.0000  \n",
       "2           0.0000  1.0000  \n",
       "3           0.0000  0.5000  \n",
       "4           0.2500  0.0000  \n",
       "...            ...     ...  \n",
       "31672       0.5000  1.0000  \n",
       "31673       0.3333  0.6667  \n",
       "31674       1.0000  1.0000  \n",
       "31675       0.2500  0.0000  \n",
       "31676       0.0000  0.6667  \n",
       "\n",
       "[31677 rows x 9 columns]"
      ]
     },
     "execution_count": 1,
     "metadata": {},
     "output_type": "execute_result"
    }
   ],
   "source": [
    "import pandas as pd\n",
    "\n",
    "customer_df = pd.read_excel('data/customer_data.xlsx')\n",
    "customer_df"
   ]
  },
  {
   "cell_type": "code",
   "execution_count": 4,
   "metadata": {},
   "outputs": [
    {
     "data": {
      "text/plain": [
       "{0: (2017, 8),\n",
       " 1: (2017, 9),\n",
       " 2: (2017, 10),\n",
       " 3: (2017, 11),\n",
       " 4: (2017, 12),\n",
       " 5: (2018, 1),\n",
       " 6: (2018, 2),\n",
       " 7: (2018, 3),\n",
       " 8: (2018, 4),\n",
       " 9: (2018, 5),\n",
       " 10: (2018, 6),\n",
       " 11: (2018, 7)}"
      ]
     },
     "execution_count": 4,
     "metadata": {},
     "output_type": "execute_result"
    }
   ],
   "source": [
    "from utilities import CohortDateMapper\n",
    "\n",
    "cdm = CohortDateMapper(customer_df)\n",
    "cdm.date_cohort_mapping"
   ]
  },
  {
   "cell_type": "code",
   "execution_count": 5,
   "metadata": {},
   "outputs": [
    {
     "data": {
      "text/plain": [
       "20175"
      ]
     },
     "execution_count": 5,
     "metadata": {},
     "output_type": "execute_result"
    }
   ],
   "source": [
    "#2-a how many new user were acquired\n",
    "how_many_new_users = len(customer_df['user'].drop_duplicates())\n",
    "how_many_new_users"
   ]
  },
  {
   "cell_type": "code",
   "execution_count": 6,
   "metadata": {},
   "outputs": [
    {
     "data": {
      "text/plain": [
       "(2017, 8)"
      ]
     },
     "execution_count": 6,
     "metadata": {},
     "output_type": "execute_result"
    }
   ],
   "source": [
    "#2-a when does the time window of the data start\n",
    "start_date = cdm.date_cohort_mapping[0]\n",
    "start_date"
   ]
  },
  {
   "cell_type": "code",
   "execution_count": 11,
   "metadata": {},
   "outputs": [
    {
     "data": {
      "text/plain": [
       "{0: 1771,\n",
       " 1: 1352,\n",
       " 2: 1743,\n",
       " 3: 1794,\n",
       " 4: 1557,\n",
       " 5: 1952,\n",
       " 6: 2050,\n",
       " 7: 1586,\n",
       " 8: 2317,\n",
       " 9: 1371,\n",
       " 10: 1266,\n",
       " 11: 1416}"
      ]
     },
     "execution_count": 11,
     "metadata": {},
     "output_type": "execute_result"
    }
   ],
   "source": [
    "#2-b how many new users did netflix acquire each month / initial size of the cohorts\n",
    "users_per_cohort = dict()\n",
    "\n",
    "for cohort in range(0, 12):\n",
    "    cohort_df = customer_df[customer_df['cohort'] == cohort]\n",
    "    new_customers = len(cohort_df['user'].drop_duplicates())\n",
    "    users_per_cohort[cohort] = new_customers\n",
    "\n",
    "users_per_cohort"
   ]
  },
  {
   "cell_type": "code",
   "execution_count": 12,
   "metadata": {},
   "outputs": [
    {
     "data": {
      "text/plain": [
       "20175"
      ]
     },
     "execution_count": 12,
     "metadata": {},
     "output_type": "execute_result"
    }
   ],
   "source": [
    "#to test above validity\n",
    "c = 0\n",
    "for _, users in users_per_cohort.items():\n",
    "    c += users\n",
    "\n",
    "c"
   ]
  },
  {
   "cell_type": "code",
   "execution_count": 15,
   "metadata": {},
   "outputs": [
    {
     "data": {
      "image/png": "[encoded data removed]",
      "text/plain": [
       "<Figure size 640x480 with 1 Axes>"
      ]
     },
     "metadata": {},
     "output_type": "display_data"
    }
   ],
   "source": [
    "#2-c plotting numbers\n",
    "\n",
    "import matplotlib.pyplot as plt\n",
    "\n",
    "cohorts, users = zip(*list(users_per_cohort.items()))\n",
    "\n",
    "plt.bar(cohorts, users)\n",
    "\n",
    "plt.xlabel('Cohort')\n",
    "plt.ylabel('New Users')\n",
    "plt.title('Amount of New Users in each Cohort')\n",
    "plt.show()"
   ]
  },
  {
   "cell_type": "code",
   "execution_count": 21,
   "metadata": {},
   "outputs": [
    {
     "data": {
      "text/plain": [
       "{0: 1771,\n",
       " 1: 2281,\n",
       " 2: 2418,\n",
       " 3: 2655,\n",
       " 4: 3050,\n",
       " 5: 3200,\n",
       " 6: 3369,\n",
       " 7: 3165,\n",
       " 8: 3268,\n",
       " 9: 2749,\n",
       " 10: 2102,\n",
       " 11: 1649}"
      ]
     },
     "execution_count": 21,
     "metadata": {},
     "output_type": "execute_result"
    }
   ],
   "source": [
    "#2-d\n",
    "observed_users_per_cohort = dict()\n",
    "\n",
    "for cohort in range(0, 12):\n",
    "    year, month = cdm.date_cohort_mapping[cohort]\n",
    "    date_index = (customer_df['time_year'] == year) & (customer_df['time_month'] == month)\n",
    "    cohort_df = customer_df[date_index]\n",
    "    observed_users = len(cohort_df['user'].drop_duplicates())\n",
    "    observed_users_per_cohort[cohort] = observed_users\n",
    "\n",
    "observed_users_per_cohort"
   ]
  }
 ],
 "metadata": {
  "kernelspec": {
   "display_name": "Python 3",
   "language": "python",
   "name": "python3"
  },
  "language_info": {
   "codemirror_mode": {
    "name": "ipython",
    "version": 3
   },
   "file_extension": ".py",
   "mimetype": "text/x-python",
   "name": "python",
   "nbconvert_exporter": "python",
   "pygments_lexer": "ipython3",
   "version": "3.11.2"
  }
 },
 "nbformat": 4,
 "nbformat_minor": 2
}
