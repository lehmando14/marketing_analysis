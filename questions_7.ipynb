{
 "cells": [
  {
   "cell_type": "code",
   "execution_count": 1,
   "metadata": {},
   "outputs": [
    {
     "data": {
      "text/html": [
       "<div>\n",
       "<style scoped>\n",
       "    .dataframe tbody tr th:only-of-type {\n",
       "        vertical-align: middle;\n",
       "    }\n",
       "\n",
       "    .dataframe tbody tr th {\n",
       "        vertical-align: top;\n",
       "    }\n",
       "\n",
       "    .dataframe thead th {\n",
       "        text-align: right;\n",
       "    }\n",
       "</style>\n",
       "<table border=\"1\" class=\"dataframe\">\n",
       "  <thead>\n",
       "    <tr style=\"text-align: right;\">\n",
       "      <th></th>\n",
       "      <th>cohort</th>\n",
       "      <th>user</th>\n",
       "      <th>time_year</th>\n",
       "      <th>time_month</th>\n",
       "      <th>subscription</th>\n",
       "      <th>content</th>\n",
       "      <th>genres</th>\n",
       "      <th>recency_new</th>\n",
       "      <th>bounce</th>\n",
       "    </tr>\n",
       "  </thead>\n",
       "  <tbody>\n",
       "    <tr>\n",
       "      <th>0</th>\n",
       "      <td>0</td>\n",
       "      <td>0</td>\n",
       "      <td>2017</td>\n",
       "      <td>8</td>\n",
       "      <td>1</td>\n",
       "      <td>2.0</td>\n",
       "      <td>2.0</td>\n",
       "      <td>1.0000</td>\n",
       "      <td>0.5000</td>\n",
       "    </tr>\n",
       "    <tr>\n",
       "      <th>1</th>\n",
       "      <td>0</td>\n",
       "      <td>0</td>\n",
       "      <td>2017</td>\n",
       "      <td>9</td>\n",
       "      <td>1</td>\n",
       "      <td>1.0</td>\n",
       "      <td>1.0</td>\n",
       "      <td>1.0000</td>\n",
       "      <td>0.0000</td>\n",
       "    </tr>\n",
       "    <tr>\n",
       "      <th>2</th>\n",
       "      <td>0</td>\n",
       "      <td>1</td>\n",
       "      <td>2017</td>\n",
       "      <td>8</td>\n",
       "      <td>1</td>\n",
       "      <td>1.0</td>\n",
       "      <td>1.0</td>\n",
       "      <td>0.0000</td>\n",
       "      <td>1.0000</td>\n",
       "    </tr>\n",
       "    <tr>\n",
       "      <th>3</th>\n",
       "      <td>0</td>\n",
       "      <td>1</td>\n",
       "      <td>2017</td>\n",
       "      <td>9</td>\n",
       "      <td>1</td>\n",
       "      <td>1.0</td>\n",
       "      <td>1.0</td>\n",
       "      <td>0.0000</td>\n",
       "      <td>0.5000</td>\n",
       "    </tr>\n",
       "    <tr>\n",
       "      <th>4</th>\n",
       "      <td>0</td>\n",
       "      <td>2</td>\n",
       "      <td>2017</td>\n",
       "      <td>8</td>\n",
       "      <td>1</td>\n",
       "      <td>12.0</td>\n",
       "      <td>4.0</td>\n",
       "      <td>0.2500</td>\n",
       "      <td>0.0000</td>\n",
       "    </tr>\n",
       "    <tr>\n",
       "      <th>...</th>\n",
       "      <td>...</td>\n",
       "      <td>...</td>\n",
       "      <td>...</td>\n",
       "      <td>...</td>\n",
       "      <td>...</td>\n",
       "      <td>...</td>\n",
       "      <td>...</td>\n",
       "      <td>...</td>\n",
       "      <td>...</td>\n",
       "    </tr>\n",
       "    <tr>\n",
       "      <th>31672</th>\n",
       "      <td>11</td>\n",
       "      <td>20170</td>\n",
       "      <td>2018</td>\n",
       "      <td>7</td>\n",
       "      <td>1</td>\n",
       "      <td>2.0</td>\n",
       "      <td>2.0</td>\n",
       "      <td>0.5000</td>\n",
       "      <td>1.0000</td>\n",
       "    </tr>\n",
       "    <tr>\n",
       "      <th>31673</th>\n",
       "      <td>11</td>\n",
       "      <td>20171</td>\n",
       "      <td>2018</td>\n",
       "      <td>7</td>\n",
       "      <td>1</td>\n",
       "      <td>3.0</td>\n",
       "      <td>2.0</td>\n",
       "      <td>0.3333</td>\n",
       "      <td>0.6667</td>\n",
       "    </tr>\n",
       "    <tr>\n",
       "      <th>31674</th>\n",
       "      <td>11</td>\n",
       "      <td>20172</td>\n",
       "      <td>2018</td>\n",
       "      <td>7</td>\n",
       "      <td>1</td>\n",
       "      <td>1.0</td>\n",
       "      <td>1.0</td>\n",
       "      <td>1.0000</td>\n",
       "      <td>1.0000</td>\n",
       "    </tr>\n",
       "    <tr>\n",
       "      <th>31675</th>\n",
       "      <td>11</td>\n",
       "      <td>20173</td>\n",
       "      <td>2018</td>\n",
       "      <td>7</td>\n",
       "      <td>1</td>\n",
       "      <td>4.0</td>\n",
       "      <td>3.0</td>\n",
       "      <td>0.2500</td>\n",
       "      <td>0.0000</td>\n",
       "    </tr>\n",
       "    <tr>\n",
       "      <th>31676</th>\n",
       "      <td>11</td>\n",
       "      <td>20174</td>\n",
       "      <td>2018</td>\n",
       "      <td>7</td>\n",
       "      <td>1</td>\n",
       "      <td>3.0</td>\n",
       "      <td>2.0</td>\n",
       "      <td>0.0000</td>\n",
       "      <td>0.6667</td>\n",
       "    </tr>\n",
       "  </tbody>\n",
       "</table>\n",
       "<p>31677 rows × 9 columns</p>\n",
       "</div>"
      ],
      "text/plain": [
       "       cohort   user  time_year  time_month  subscription  content  genres  \\\n",
       "0           0      0       2017           8             1      2.0     2.0   \n",
       "1           0      0       2017           9             1      1.0     1.0   \n",
       "2           0      1       2017           8             1      1.0     1.0   \n",
       "3           0      1       2017           9             1      1.0     1.0   \n",
       "4           0      2       2017           8             1     12.0     4.0   \n",
       "...       ...    ...        ...         ...           ...      ...     ...   \n",
       "31672      11  20170       2018           7             1      2.0     2.0   \n",
       "31673      11  20171       2018           7             1      3.0     2.0   \n",
       "31674      11  20172       2018           7             1      1.0     1.0   \n",
       "31675      11  20173       2018           7             1      4.0     3.0   \n",
       "31676      11  20174       2018           7             1      3.0     2.0   \n",
       "\n",
       "       recency_new  bounce  \n",
       "0           1.0000  0.5000  \n",
       "1           1.0000  0.0000  \n",
       "2           0.0000  1.0000  \n",
       "3           0.0000  0.5000  \n",
       "4           0.2500  0.0000  \n",
       "...            ...     ...  \n",
       "31672       0.5000  1.0000  \n",
       "31673       0.3333  0.6667  \n",
       "31674       1.0000  1.0000  \n",
       "31675       0.2500  0.0000  \n",
       "31676       0.0000  0.6667  \n",
       "\n",
       "[31677 rows x 9 columns]"
      ]
     },
     "execution_count": 1,
     "metadata": {},
     "output_type": "execute_result"
    }
   ],
   "source": [
    "import pandas as pd\n",
    "from utilities import CohortDateMapper\n",
    "\n",
    "import question_3af as q3\n",
    "import question_3gh as q3_end\n",
    "import question_4 as q4\n",
    "\n",
    "\n",
    "\n",
    "customer_df = pd.read_excel('data/customer_data.xlsx')\n",
    "\n",
    "cdm = CohortDateMapper(customer_df)\n",
    "\n",
    "customer_df"
   ]
  },
  {
   "cell_type": "code",
   "execution_count": 7,
   "metadata": {},
   "outputs": [
    {
     "data": {
      "text/plain": [
       "{0: None,\n",
       " 1: 0.5245623941276115,\n",
       " 2: 0.07857911733046287,\n",
       " 3: 0.273972602739726,\n",
       " 4: 0.35,\n",
       " 5: 0.5714285714285714,\n",
       " 6: 0.75,\n",
       " 7: 0.6666666666666666,\n",
       " 8: 0.5,\n",
       " 9: 0.0,\n",
       " 10: None,\n",
       " 11: None}"
      ]
     },
     "execution_count": 7,
     "metadata": {},
     "output_type": "execute_result"
    }
   ],
   "source": [
    "retention_rates = q3.calculate_retention_rates_of_cohort_i(customer_df, 0, cdm)\n",
    "retention_rates"
   ]
  },
  {
   "cell_type": "code",
   "execution_count": 9,
   "metadata": {},
   "outputs": [],
   "source": [
    "average_retention_rate = q3.calculate_avg_retention_rate(retention_rates)"
   ]
  },
  {
   "cell_type": "code",
   "execution_count": 11,
   "metadata": {},
   "outputs": [
    {
     "data": {
      "text/plain": [
       "51.46565457622909"
      ]
     },
     "execution_count": 11,
     "metadata": {},
     "output_type": "execute_result"
    }
   ],
   "source": [
    "average_price = 20\n",
    "clv_averageRR_cohort0 = 0\n",
    "for month in range(12):\n",
    "    clv_averageRR_cohort0 += average_price * average_retention_rate / (1 + 0.15)**month\n",
    "clv_averageRR_cohort0"
   ]
  },
  {
   "cell_type": "code",
   "execution_count": 26,
   "metadata": {},
   "outputs": [
    {
     "name": "stdout",
     "output_type": "stream",
     "text": [
      "[1, 0.5245623941276115, 0.07857911733046287, 0.273972602739726, 0.35, 0.5714285714285714, 0.75, 0.6666666666666666, 0.5, 0.0, 0, 0]\n"
     ]
    },
    {
     "data": {
      "text/plain": [
       "29.989177161147353"
      ]
     },
     "execution_count": 26,
     "metadata": {},
     "output_type": "execute_result"
    }
   ],
   "source": [
    "average_price = 20\n",
    "retention_rates_list = list(retention_rates.values())\n",
    "clv_dynamic_cohort0 = 0\n",
    "retention_rates_list[0] = 1\n",
    "retention_rates_list[10] = 0\n",
    "retention_rates_list[11] = 0\n",
    "print(retention_rates_list)\n",
    "current_retention_multiplier = 1.15\n",
    "for month in range(12):\n",
    "    current_retention_multiplier *= retention_rates_list[month] / (1 + 0.15)\n",
    "    clv_dynamic_cohort0 += average_price * current_retention_multiplier\n",
    "clv_dynamic_cohort0"
   ]
  },
  {
   "cell_type": "code",
   "execution_count": 30,
   "metadata": {},
   "outputs": [
    {
     "data": {
      "text/plain": [
       "299891.7716114735"
      ]
     },
     "execution_count": 30,
     "metadata": {},
     "output_type": "execute_result"
    }
   ],
   "source": [
    "#7a\n",
    "clv_dynamic_cohort0_10000 = 10000 * clv_dynamic_cohort0\n",
    "clv_dynamic_cohort0_10000"
   ]
  },
  {
   "cell_type": "code",
   "execution_count": 2,
   "metadata": {},
   "outputs": [
    {
     "name": "stdout",
     "output_type": "stream",
     "text": [
      "0.2332636013864539\n",
      "0.09472124040153239\n",
      "0.05058941212914648\n",
      "0.031816956610625946\n",
      "0.022245870587995202\n",
      "0.016711787621050474\n",
      "0.013198789619328813\n",
      "0.010801280195249183\n",
      "0.009067837159333582\n",
      "0.007754738517659865\n",
      "0.006721847278884156\n",
      "0.005884363250552553\n",
      "0.005188727241647931\n",
      "0.004599827355325764\n",
      "0.004093855100243045\n",
      "0.0036541473374814342\n",
      "0.003268682034526581\n",
      "0.00292852689078778\n",
      "0.002626855326872936\n",
      "0.002358309603162296\n",
      "0.0021185811251750665\n",
      "0.0019041291676146835\n",
      "0.0017119891925860815\n"
     ]
    },
    {
     "data": {
      "text/plain": [
       "27.26516157419325"
      ]
     },
     "execution_count": 2,
     "metadata": {},
     "output_type": "execute_result"
    }
   ],
   "source": [
    "#7f\n",
    "import math\n",
    "average_price = 20\n",
    "clv_dynamic_cohort0 = average_price\n",
    "current_retention_multiplier = 1\n",
    "for month in range(1,24):\n",
    "    current_retention_multiplier *= 0.9*(1-math.exp(-0.3*month))\n",
    "    print(current_retention_multiplier)\n",
    "    clv_dynamic_cohort0 += average_price * current_retention_multiplier / (1 + 0.15)**month\n",
    "clv_dynamic_cohort0"
   ]
  },
  {
   "cell_type": "code",
   "execution_count": null,
   "metadata": {},
   "outputs": [],
   "source": []
  }
 ],
 "metadata": {
  "kernelspec": {
   "display_name": "Python 3",
   "language": "python",
   "name": "python3"
  },
  "language_info": {
   "codemirror_mode": {
    "name": "ipython",
    "version": 3
   },
   "file_extension": ".py",
   "mimetype": "text/x-python",
   "name": "python",
   "nbconvert_exporter": "python",
   "pygments_lexer": "ipython3",
   "version": "3.11.2"
  }
 },
 "nbformat": 4,
 "nbformat_minor": 2
}
