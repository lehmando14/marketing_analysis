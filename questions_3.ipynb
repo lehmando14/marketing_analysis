{
 "cells": [
  {
   "cell_type": "code",
   "execution_count": 1,
   "metadata": {},
   "outputs": [
    {
     "data": {
      "text/html": [
       "<div>\n",
       "<style scoped>\n",
       "    .dataframe tbody tr th:only-of-type {\n",
       "        vertical-align: middle;\n",
       "    }\n",
       "\n",
       "    .dataframe tbody tr th {\n",
       "        vertical-align: top;\n",
       "    }\n",
       "\n",
       "    .dataframe thead th {\n",
       "        text-align: right;\n",
       "    }\n",
       "</style>\n",
       "<table border=\"1\" class=\"dataframe\">\n",
       "  <thead>\n",
       "    <tr style=\"text-align: right;\">\n",
       "      <th></th>\n",
       "      <th>cohort</th>\n",
       "      <th>user</th>\n",
       "      <th>time_year</th>\n",
       "      <th>time_month</th>\n",
       "      <th>subscription</th>\n",
       "      <th>content</th>\n",
       "      <th>genres</th>\n",
       "      <th>recency_new</th>\n",
       "      <th>bounce</th>\n",
       "    </tr>\n",
       "  </thead>\n",
       "  <tbody>\n",
       "    <tr>\n",
       "      <th>0</th>\n",
       "      <td>0</td>\n",
       "      <td>0</td>\n",
       "      <td>2017</td>\n",
       "      <td>8</td>\n",
       "      <td>1</td>\n",
       "      <td>2.0</td>\n",
       "      <td>2.0</td>\n",
       "      <td>1.0000</td>\n",
       "      <td>0.5000</td>\n",
       "    </tr>\n",
       "    <tr>\n",
       "      <th>1</th>\n",
       "      <td>0</td>\n",
       "      <td>0</td>\n",
       "      <td>2017</td>\n",
       "      <td>9</td>\n",
       "      <td>1</td>\n",
       "      <td>1.0</td>\n",
       "      <td>1.0</td>\n",
       "      <td>1.0000</td>\n",
       "      <td>0.0000</td>\n",
       "    </tr>\n",
       "    <tr>\n",
       "      <th>2</th>\n",
       "      <td>0</td>\n",
       "      <td>1</td>\n",
       "      <td>2017</td>\n",
       "      <td>8</td>\n",
       "      <td>1</td>\n",
       "      <td>1.0</td>\n",
       "      <td>1.0</td>\n",
       "      <td>0.0000</td>\n",
       "      <td>1.0000</td>\n",
       "    </tr>\n",
       "    <tr>\n",
       "      <th>3</th>\n",
       "      <td>0</td>\n",
       "      <td>1</td>\n",
       "      <td>2017</td>\n",
       "      <td>9</td>\n",
       "      <td>1</td>\n",
       "      <td>1.0</td>\n",
       "      <td>1.0</td>\n",
       "      <td>0.0000</td>\n",
       "      <td>0.5000</td>\n",
       "    </tr>\n",
       "    <tr>\n",
       "      <th>4</th>\n",
       "      <td>0</td>\n",
       "      <td>2</td>\n",
       "      <td>2017</td>\n",
       "      <td>8</td>\n",
       "      <td>1</td>\n",
       "      <td>12.0</td>\n",
       "      <td>4.0</td>\n",
       "      <td>0.2500</td>\n",
       "      <td>0.0000</td>\n",
       "    </tr>\n",
       "    <tr>\n",
       "      <th>...</th>\n",
       "      <td>...</td>\n",
       "      <td>...</td>\n",
       "      <td>...</td>\n",
       "      <td>...</td>\n",
       "      <td>...</td>\n",
       "      <td>...</td>\n",
       "      <td>...</td>\n",
       "      <td>...</td>\n",
       "      <td>...</td>\n",
       "    </tr>\n",
       "    <tr>\n",
       "      <th>31672</th>\n",
       "      <td>11</td>\n",
       "      <td>20170</td>\n",
       "      <td>2018</td>\n",
       "      <td>7</td>\n",
       "      <td>1</td>\n",
       "      <td>2.0</td>\n",
       "      <td>2.0</td>\n",
       "      <td>0.5000</td>\n",
       "      <td>1.0000</td>\n",
       "    </tr>\n",
       "    <tr>\n",
       "      <th>31673</th>\n",
       "      <td>11</td>\n",
       "      <td>20171</td>\n",
       "      <td>2018</td>\n",
       "      <td>7</td>\n",
       "      <td>1</td>\n",
       "      <td>3.0</td>\n",
       "      <td>2.0</td>\n",
       "      <td>0.3333</td>\n",
       "      <td>0.6667</td>\n",
       "    </tr>\n",
       "    <tr>\n",
       "      <th>31674</th>\n",
       "      <td>11</td>\n",
       "      <td>20172</td>\n",
       "      <td>2018</td>\n",
       "      <td>7</td>\n",
       "      <td>1</td>\n",
       "      <td>1.0</td>\n",
       "      <td>1.0</td>\n",
       "      <td>1.0000</td>\n",
       "      <td>1.0000</td>\n",
       "    </tr>\n",
       "    <tr>\n",
       "      <th>31675</th>\n",
       "      <td>11</td>\n",
       "      <td>20173</td>\n",
       "      <td>2018</td>\n",
       "      <td>7</td>\n",
       "      <td>1</td>\n",
       "      <td>4.0</td>\n",
       "      <td>3.0</td>\n",
       "      <td>0.2500</td>\n",
       "      <td>0.0000</td>\n",
       "    </tr>\n",
       "    <tr>\n",
       "      <th>31676</th>\n",
       "      <td>11</td>\n",
       "      <td>20174</td>\n",
       "      <td>2018</td>\n",
       "      <td>7</td>\n",
       "      <td>1</td>\n",
       "      <td>3.0</td>\n",
       "      <td>2.0</td>\n",
       "      <td>0.0000</td>\n",
       "      <td>0.6667</td>\n",
       "    </tr>\n",
       "  </tbody>\n",
       "</table>\n",
       "<p>31677 rows × 9 columns</p>\n",
       "</div>"
      ],
      "text/plain": [
       "       cohort   user  time_year  time_month  subscription  content  genres  \\\n",
       "0           0      0       2017           8             1      2.0     2.0   \n",
       "1           0      0       2017           9             1      1.0     1.0   \n",
       "2           0      1       2017           8             1      1.0     1.0   \n",
       "3           0      1       2017           9             1      1.0     1.0   \n",
       "4           0      2       2017           8             1     12.0     4.0   \n",
       "...       ...    ...        ...         ...           ...      ...     ...   \n",
       "31672      11  20170       2018           7             1      2.0     2.0   \n",
       "31673      11  20171       2018           7             1      3.0     2.0   \n",
       "31674      11  20172       2018           7             1      1.0     1.0   \n",
       "31675      11  20173       2018           7             1      4.0     3.0   \n",
       "31676      11  20174       2018           7             1      3.0     2.0   \n",
       "\n",
       "       recency_new  bounce  \n",
       "0           1.0000  0.5000  \n",
       "1           1.0000  0.0000  \n",
       "2           0.0000  1.0000  \n",
       "3           0.0000  0.5000  \n",
       "4           0.2500  0.0000  \n",
       "...            ...     ...  \n",
       "31672       0.5000  1.0000  \n",
       "31673       0.3333  0.6667  \n",
       "31674       1.0000  1.0000  \n",
       "31675       0.2500  0.0000  \n",
       "31676       0.0000  0.6667  \n",
       "\n",
       "[31677 rows x 9 columns]"
      ]
     },
     "execution_count": 1,
     "metadata": {},
     "output_type": "execute_result"
    }
   ],
   "source": [
    "import pandas as pd\n",
    "\n",
    "from utilities import CohortDateMapper\n",
    "import question_3af as q3\n",
    "import question_3gh as q3_end\n",
    "\n",
    "customer_df = pd.read_excel('data/customer_data.xlsx')\n",
    "\n",
    "cdm = CohortDateMapper(customer_df)\n",
    "cdm.date_cohort_mapping\n",
    "\n",
    "customer_df"
   ]
  },
  {
   "cell_type": "code",
   "execution_count": 2,
   "metadata": {},
   "outputs": [
    {
     "data": {
      "text/plain": [
       "{0: 1,\n",
       " 1: 0.5245623941276115,\n",
       " 2: 0.07857911733046287,\n",
       " 3: 0.273972602739726,\n",
       " 4: 0.35,\n",
       " 5: 0.5714285714285714,\n",
       " 6: 0.75,\n",
       " 7: 0.6666666666666666,\n",
       " 8: 0.5,\n",
       " 9: 0.0,\n",
       " 10: 0,\n",
       " 11: 0}"
      ]
     },
     "execution_count": 2,
     "metadata": {},
     "output_type": "execute_result"
    }
   ],
   "source": [
    "#3-a: retention rate of cohort 0; \n",
    "retention_rates = q3.calculate_retention_rates_of_cohort_i(customer_df, 0, cdm)\n",
    "retention_rates"
   ]
  },
  {
   "cell_type": "code",
   "execution_count": 3,
   "metadata": {},
   "outputs": [
    {
     "data": {
      "image/png": "[encoded data removed]",
      "text/plain": [
       "<Figure size 640x480 with 1 Axes>"
      ]
     },
     "metadata": {},
     "output_type": "display_data"
    }
   ],
   "source": [
    "#3-b; plot retention rates\n",
    "\n",
    "q3.plot_retention_rate_of_cohort_i(retention_rates, 0)"
   ]
  },
  {
   "cell_type": "code",
   "execution_count": 4,
   "metadata": {},
   "outputs": [
    {
     "data": {
      "text/plain": [
       "5.5"
      ]
     },
     "execution_count": 4,
     "metadata": {},
     "output_type": "execute_result"
    }
   ],
   "source": [
    "#3-c; average of retention rates\n",
    "\n",
    "q3.calculate_avg_retention_rate(retention_rates)"
   ]
  },
  {
   "cell_type": "code",
   "execution_count": 5,
   "metadata": {},
   "outputs": [],
   "source": [
    "#3-e; use methods defined above"
   ]
  },
  {
   "cell_type": "code",
   "execution_count": 7,
   "metadata": {},
   "outputs": [
    {
     "data": {
      "text/plain": [
       "[1.0,\n",
       " 0.5155331835420408,\n",
       " 0.12125301310272232,\n",
       " 0.23536714765199232,\n",
       " 0.40429445006747633,\n",
       " 0.5486961451247165,\n",
       " 0.6944444444444445,\n",
       " 0.44666666666666666,\n",
       " 0.6458333333333334,\n",
       " 0.2222222222222222,\n",
       " 0.25,\n",
       " 0.0]"
      ]
     },
     "execution_count": 7,
     "metadata": {},
     "output_type": "execute_result"
    }
   ],
   "source": [
    "#3-g; calculate average retention rates across periods (time after customer acquisition)\n",
    "avg_retention_rates_across_cohorts = \\\n",
    "    q3_end.calculate_avg_retention_rates_across_cohorts(customer_df, cdm)\n",
    "\n",
    "avg_retention_rates_across_cohorts"
   ]
  },
  {
   "cell_type": "code",
   "execution_count": 8,
   "metadata": {},
   "outputs": [
    {
     "data": {
      "text/plain": [
       "[1.0,\n",
       " 0.7622811970638057,\n",
       " 0.5079484631732707,\n",
       " 0.45950737368990824,\n",
       " 0.5490886127532739,\n",
       " 0.5153538497898598,\n",
       " 0.5317877489574722,\n",
       " 0.5483583179112034,\n",
       " 0.5959224484194079,\n",
       " 0.4638060899417439,\n",
       " 0.5067861799913845,\n",
       " 0.2347944127723811]"
      ]
     },
     "execution_count": 8,
     "metadata": {},
     "output_type": "execute_result"
    }
   ],
   "source": [
    "#3-h calculate average retention rates across months\n",
    "\n",
    "avg_retention_rates_across_months = q3_end.calculate_avg_retention_rates_across_months(customer_df, cdm)\n",
    "avg_retention_rates_across_months"
   ]
  }
 ],
 "metadata": {
  "kernelspec": {
   "display_name": "Python 3",
   "language": "python",
   "name": "python3"
  },
  "language_info": {
   "codemirror_mode": {
    "name": "ipython",
    "version": 3
   },
   "file_extension": ".py",
   "mimetype": "text/x-python",
   "name": "python",
   "nbconvert_exporter": "python",
   "pygments_lexer": "ipython3",
   "version": "3.11.2"
  }
 },
 "nbformat": 4,
 "nbformat_minor": 2
}
